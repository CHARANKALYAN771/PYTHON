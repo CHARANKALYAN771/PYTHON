{
 "cells": [
  {
   "cell_type": "code",
   "execution_count": 1,
   "id": "358f5fc8",
   "metadata": {},
   "outputs": [],
   "source": [
    "class Node:\n",
    "    def __init__(self,data=None,nxt=None):\n",
    "        self.data=data\n",
    "        self.nxt=nxt\n",
    "class ll:\n",
    "    def __init__(self):\n",
    "        self.head=None\n",
    "    def at_beginning(self,data):\n",
    "        node=Node(data,self.head)\n",
    "        self.head=node\n",
    "    def prin(self):\n",
    "        if self.head==None:\n",
    "            print(\"empty\")\n",
    "        else:\n",
    "            itr=self.head\n",
    "            while itr:\n",
    "                print(itr.data)\n",
    "                itr=itr.nxt\n",
    "    def end(self,data):\n",
    "        itr = self.head\n",
    "        if itr ==None:\n",
    "            node=Node(data,self.head)\n",
    "            self.head=node\n",
    "        else:\n",
    "            itr =self.head\n",
    "            while itr.nxt:\n",
    "                itr=itr.nxt\n",
    "            node=Node(data,None)\n",
    "            itr.nxt=node\n",
    "    def remove(self,index):\n",
    "        if index==0:\n",
    "            self.head=self.head.nxt\n",
    "        else:\n",
    "            i=0\n",
    "            itr=self.head\n",
    "            while i==index-1:\n",
    "                i+=1\n",
    "                itr=itr.nxt\n",
    "            itr.nxt=itr.nxt.nxt\n",
    "\n",
    "        \n",
    "        "
   ]
  },
  {
   "cell_type": "code",
   "execution_count": 2,
   "id": "5d6b7501",
   "metadata": {},
   "outputs": [
    {
     "name": "stdout",
     "output_type": "stream",
     "text": [
      "30\n",
      "10\n",
      "40\n"
     ]
    }
   ],
   "source": [
    "ck=ll()\n",
    "ck.at_beginning(10)\n",
    "ck.at_beginning(20)\n",
    "ck.at_beginning(30)\n",
    "ck.end(40)\n",
    "ck.remove(2)\n",
    "ck.prin()"
   ]
  },
  {
   "cell_type": "code",
   "execution_count": null,
   "id": "c58e61d5",
   "metadata": {},
   "outputs": [],
   "source": []
  }
 ],
 "metadata": {
  "kernelspec": {
   "display_name": "Python 3 (ipykernel)",
   "language": "python",
   "name": "python3"
  },
  "language_info": {
   "codemirror_mode": {
    "name": "ipython",
    "version": 3
   },
   "file_extension": ".py",
   "mimetype": "text/x-python",
   "name": "python",
   "nbconvert_exporter": "python",
   "pygments_lexer": "ipython3",
   "version": "3.9.7"
  }
 },
 "nbformat": 4,
 "nbformat_minor": 5
}
