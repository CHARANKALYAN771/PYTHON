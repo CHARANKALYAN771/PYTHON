{
 "cells": [
  {
   "cell_type": "code",
   "execution_count": 62,
   "id": "19793c94",
   "metadata": {},
   "outputs": [],
   "source": [
    "from collections import deque"
   ]
  },
  {
   "cell_type": "code",
   "execution_count": 63,
   "id": "4b461aaa",
   "metadata": {},
   "outputs": [],
   "source": [
    "stack= deque()"
   ]
  },
  {
   "cell_type": "code",
   "execution_count": 69,
   "id": "687cfdae",
   "metadata": {},
   "outputs": [],
   "source": [
    "class stack1:\n",
    "    def __init__(self):\n",
    "        self.content= deque()\n",
    "    def push(self,val):\n",
    "        return self.content.append(val)\n",
    "    def pop(self):\n",
    "        return self.content.pop()\n",
    "    def print1(self):\n",
    "        print(self.content)\n",
    "    def leng(self):\n",
    "        print(len(self.content))"
   ]
  },
  {
   "cell_type": "code",
   "execution_count": 70,
   "id": "f128fd3a",
   "metadata": {},
   "outputs": [
    {
     "name": "stdout",
     "output_type": "stream",
     "text": [
      "deque([10, 20])\n",
      "deque([10])\n",
      "1\n"
     ]
    }
   ],
   "source": [
    "s=stack1()\n",
    "s.push(10)\n",
    "s.push(20)\n",
    "s.print1()\n",
    "s.pop()\n",
    "s.print1()\n",
    "s.leng()"
   ]
  },
  {
   "cell_type": "code",
   "execution_count": 66,
   "id": "1c9f8628",
   "metadata": {},
   "outputs": [],
   "source": [
    "from collections import deque"
   ]
  },
  {
   "cell_type": "code",
   "execution_count": 75,
   "id": "9ac69009",
   "metadata": {},
   "outputs": [],
   "source": [
    "class q2:\n",
    "    def __init__(self):\n",
    "        self.q=deque()\n",
    "    def push(self,val):\n",
    "        self.q.appendleft(val)\n",
    "    def pop(self):\n",
    "        self.q.pop()\n",
    "    def print1(self):\n",
    "        print(self.q)\n",
    "    def leng(self):\n",
    "        print(len(self.q))"
   ]
  },
  {
   "cell_type": "code",
   "execution_count": 76,
   "id": "b6ce7f4f",
   "metadata": {},
   "outputs": [
    {
     "name": "stdout",
     "output_type": "stream",
     "text": [
      "deque([20, 10])\n",
      "deque([20])\n",
      "1\n"
     ]
    }
   ],
   "source": [
    "q1=q2()\n",
    "q1.push(10)\n",
    "q1.push(20)\n",
    "q1.print1()\n",
    "q1.pop()\n",
    "q1.print1()\n",
    "q1.leng()"
   ]
  }
 ],
 "metadata": {
  "kernelspec": {
   "display_name": "Python 3 (ipykernel)",
   "language": "python",
   "name": "python3"
  },
  "language_info": {
   "codemirror_mode": {
    "name": "ipython",
    "version": 3
   },
   "file_extension": ".py",
   "mimetype": "text/x-python",
   "name": "python",
   "nbconvert_exporter": "python",
   "pygments_lexer": "ipython3",
   "version": "3.9.7"
  }
 },
 "nbformat": 4,
 "nbformat_minor": 5
}
